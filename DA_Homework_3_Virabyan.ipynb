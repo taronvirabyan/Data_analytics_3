{
 "cells": [
  {
   "cell_type": "markdown",
   "id": "be783035-1e91-4704-9264-075ff09c2375",
   "metadata": {},
   "source": [
    "# Домашняя работа"
   ]
  },
  {
   "cell_type": "markdown",
   "id": "e697b091-cd6c-4de4-9c5a-9d93e1fbd22e",
   "metadata": {},
   "source": [
    "## Задание 1"
   ]
  },
  {
   "cell_type": "code",
   "execution_count": 1,
   "id": "4678227b-377c-46ee-9cb7-87f71a049430",
   "metadata": {},
   "outputs": [],
   "source": [
    "import pandas as pd\n",
    "import numpy as np\n",
    "import matplotlib.pyplot as plt\n",
    "import seaborn as sns"
   ]
  },
  {
   "cell_type": "code",
   "execution_count": 2,
   "id": "f4a35c1b-d99c-4795-8fdc-b2ef9266cf20",
   "metadata": {},
   "outputs": [],
   "source": [
    "df = pd.read_csv(\"electricity_consumption_data.csv\", delimiter=';')"
   ]
  },
  {
   "cell_type": "code",
   "execution_count": 3,
   "id": "4df61dac-ddac-4931-a407-570f859681f2",
   "metadata": {},
   "outputs": [
    {
     "data": {
      "text/html": [
       "<div>\n",
       "<style scoped>\n",
       "    .dataframe tbody tr th:only-of-type {\n",
       "        vertical-align: middle;\n",
       "    }\n",
       "\n",
       "    .dataframe tbody tr th {\n",
       "        vertical-align: top;\n",
       "    }\n",
       "\n",
       "    .dataframe thead th {\n",
       "        text-align: right;\n",
       "    }\n",
       "</style>\n",
       "<table border=\"1\" class=\"dataframe\">\n",
       "  <thead>\n",
       "    <tr style=\"text-align: right;\">\n",
       "      <th></th>\n",
       "      <th>Time</th>\n",
       "      <th>Waste_electricity</th>\n",
       "    </tr>\n",
       "  </thead>\n",
       "  <tbody>\n",
       "    <tr>\n",
       "      <th>0</th>\n",
       "      <td>01.01.2023 6:00</td>\n",
       "      <td>0.0</td>\n",
       "    </tr>\n",
       "    <tr>\n",
       "      <th>1</th>\n",
       "      <td>01.01.2023 6:05</td>\n",
       "      <td>0.0</td>\n",
       "    </tr>\n",
       "    <tr>\n",
       "      <th>2</th>\n",
       "      <td>01.01.2023 6:10</td>\n",
       "      <td>0.0</td>\n",
       "    </tr>\n",
       "    <tr>\n",
       "      <th>3</th>\n",
       "      <td>01.01.2023 6:15</td>\n",
       "      <td>0.0</td>\n",
       "    </tr>\n",
       "    <tr>\n",
       "      <th>4</th>\n",
       "      <td>01.01.2023 6:20</td>\n",
       "      <td>0.0</td>\n",
       "    </tr>\n",
       "  </tbody>\n",
       "</table>\n",
       "</div>"
      ],
      "text/plain": [
       "              Time  Waste_electricity\n",
       "0  01.01.2023 6:00                0.0\n",
       "1  01.01.2023 6:05                0.0\n",
       "2  01.01.2023 6:10                0.0\n",
       "3  01.01.2023 6:15                0.0\n",
       "4  01.01.2023 6:20                0.0"
      ]
     },
     "execution_count": 3,
     "metadata": {},
     "output_type": "execute_result"
    }
   ],
   "source": [
    "df.head()"
   ]
  },
  {
   "cell_type": "code",
   "execution_count": 8,
   "id": "0a85c90d-cc7c-4a55-a678-252b56b3841f",
   "metadata": {},
   "outputs": [
    {
     "name": "stdout",
     "output_type": "stream",
     "text": [
      "<class 'pandas.core.frame.DataFrame'>\n",
      "RangeIndex: 253 entries, 0 to 252\n",
      "Data columns (total 2 columns):\n",
      " #   Column             Non-Null Count  Dtype  \n",
      "---  ------             --------------  -----  \n",
      " 0   Time               253 non-null    object \n",
      " 1   Waste_electricity  253 non-null    float64\n",
      "dtypes: float64(1), object(1)\n",
      "memory usage: 4.1+ KB\n"
     ]
    }
   ],
   "source": [
    "df.info()"
   ]
  },
  {
   "cell_type": "code",
   "execution_count": 4,
   "id": "c917d66f-cc87-4585-a787-af2195079645",
   "metadata": {},
   "outputs": [],
   "source": [
    "X = np.arange(847)\n",
    "Y = [np.mean(df.Waste_electricity < x) for x in X]"
   ]
  },
  {
   "cell_type": "code",
   "execution_count": 5,
   "id": "59c94b89-6472-4dd7-bfd6-74dc89d82f66",
   "metadata": {},
   "outputs": [
    {
     "data": {
      "image/png": "[encoded data removed]",
      "text/plain": [
       "<Figure size 640x480 with 1 Axes>"
      ]
     },
     "metadata": {},
     "output_type": "display_data"
    }
   ],
   "source": [
    "plt.plot(X, Y)\n",
    "plt.show()"
   ]
  },
  {
   "cell_type": "code",
   "execution_count": null,
   "id": "d3e193ed-6d2a-4016-85ff-f4b964e6e85b",
   "metadata": {},
   "outputs": [],
   "source": [
    "Найдём квантили, среднее значение, стандартное отклонение, дисперсию и самые частые значения"
   ]
  },
  {
   "cell_type": "code",
   "execution_count": 18,
   "id": "af2f9e34-20e5-4912-b3be-c3c267f4b0ae",
   "metadata": {
    "scrolled": true
   },
   "outputs": [
    {
     "data": {
      "text/html": [
       "<div>\n",
       "<style scoped>\n",
       "    .dataframe tbody tr th:only-of-type {\n",
       "        vertical-align: middle;\n",
       "    }\n",
       "\n",
       "    .dataframe tbody tr th {\n",
       "        vertical-align: top;\n",
       "    }\n",
       "\n",
       "    .dataframe thead th {\n",
       "        text-align: right;\n",
       "    }\n",
       "</style>\n",
       "<table border=\"1\" class=\"dataframe\">\n",
       "  <thead>\n",
       "    <tr style=\"text-align: right;\">\n",
       "      <th></th>\n",
       "      <th>Waste_electricity</th>\n",
       "    </tr>\n",
       "  </thead>\n",
       "  <tbody>\n",
       "    <tr>\n",
       "      <th>count</th>\n",
       "      <td>253.000000</td>\n",
       "    </tr>\n",
       "    <tr>\n",
       "      <th>mean</th>\n",
       "      <td>178.442329</td>\n",
       "    </tr>\n",
       "    <tr>\n",
       "      <th>std</th>\n",
       "      <td>163.871100</td>\n",
       "    </tr>\n",
       "    <tr>\n",
       "      <th>min</th>\n",
       "      <td>0.000000</td>\n",
       "    </tr>\n",
       "    <tr>\n",
       "      <th>1%</th>\n",
       "      <td>0.000000</td>\n",
       "    </tr>\n",
       "    <tr>\n",
       "      <th>5%</th>\n",
       "      <td>0.000000</td>\n",
       "    </tr>\n",
       "    <tr>\n",
       "      <th>10%</th>\n",
       "      <td>0.000000</td>\n",
       "    </tr>\n",
       "    <tr>\n",
       "      <th>20%</th>\n",
       "      <td>0.000000</td>\n",
       "    </tr>\n",
       "    <tr>\n",
       "      <th>50%</th>\n",
       "      <td>149.015126</td>\n",
       "    </tr>\n",
       "    <tr>\n",
       "      <th>90%</th>\n",
       "      <td>405.194310</td>\n",
       "    </tr>\n",
       "    <tr>\n",
       "      <th>95%</th>\n",
       "      <td>466.872893</td>\n",
       "    </tr>\n",
       "    <tr>\n",
       "      <th>99%</th>\n",
       "      <td>599.823977</td>\n",
       "    </tr>\n",
       "    <tr>\n",
       "      <th>max</th>\n",
       "      <td>845.088025</td>\n",
       "    </tr>\n",
       "  </tbody>\n",
       "</table>\n",
       "</div>"
      ],
      "text/plain": [
       "       Waste_electricity\n",
       "count         253.000000\n",
       "mean          178.442329\n",
       "std           163.871100\n",
       "min             0.000000\n",
       "1%              0.000000\n",
       "5%              0.000000\n",
       "10%             0.000000\n",
       "20%             0.000000\n",
       "50%           149.015126\n",
       "90%           405.194310\n",
       "95%           466.872893\n",
       "99%           599.823977\n",
       "max           845.088025"
      ]
     },
     "execution_count": 18,
     "metadata": {},
     "output_type": "execute_result"
    }
   ],
   "source": [
    "df.describe(percentiles = [0.01, 0.05, 0.1, 0.2, 0.9, 0.95, 0.99])"
   ]
  },
  {
   "cell_type": "code",
   "execution_count": 10,
   "id": "a4c830f4-eb4e-436f-bd1d-6892fe843a44",
   "metadata": {},
   "outputs": [
    {
     "data": {
      "text/plain": [
       "26853.737335819686"
      ]
     },
     "execution_count": 10,
     "metadata": {},
     "output_type": "execute_result"
    }
   ],
   "source": [
    "df.Waste_electricity.var()"
   ]
  },
  {
   "cell_type": "code",
   "execution_count": 11,
   "id": "3a1d71ea-0cf0-4519-9447-e11cdb705503",
   "metadata": {},
   "outputs": [
    {
     "data": {
      "text/plain": [
       "Waste_electricity\n",
       "0.000000      52\n",
       "503.690564     3\n",
       "599.823977     3\n",
       "49.636003      2\n",
       "176.251555     2\n",
       "              ..\n",
       "124.711373     1\n",
       "125.958780     1\n",
       "125.971230     1\n",
       "131.696331     1\n",
       "845.088025     1\n",
       "Name: count, Length: 190, dtype: int64"
      ]
     },
     "execution_count": 11,
     "metadata": {},
     "output_type": "execute_result"
    }
   ],
   "source": [
    "df.Waste_electricity.value_counts()"
   ]
  },
  {
   "cell_type": "markdown",
   "id": "1c1cd48e-d528-4110-bee9-fd909f04b350",
   "metadata": {},
   "source": [
    "В данном случае у нас кумулятивная функция распределения, которая строго возрастает и у которой первые 20% значений равно 0, остальное распределение увеличивается без резких скачков, а после 95% значений числа начинают возрастать сильно"
   ]
  },
  {
   "cell_type": "code",
   "execution_count": 3,
   "id": "c11f5972-3317-45b7-87c7-007ebebe80ad",
   "metadata": {},
   "outputs": [],
   "source": [
    "df_standard = df.copy()"
   ]
  },
  {
   "cell_type": "markdown",
   "id": "84385567-64da-42fa-ac6d-cffd57daad60",
   "metadata": {},
   "source": [
    "Стандартизируем данные, перед этим скопировав их в отдельный dataframe"
   ]
  },
  {
   "cell_type": "code",
   "execution_count": 4,
   "id": "a6c3e16c-a4e7-4fc2-a774-d676fae26a03",
   "metadata": {},
   "outputs": [],
   "source": [
    "df_standard.Waste_electricity = (df_standard.Waste_electricity - df_standard.Waste_electricity.mean())/df_standard.Waste_electricity.std()"
   ]
  },
  {
   "cell_type": "code",
   "execution_count": 21,
   "id": "bce5bfaf-35d4-47f2-9256-7028500f579b",
   "metadata": {},
   "outputs": [],
   "source": [
    "X = np.linspace(-2, 4, 1000)\n",
    "Y = [np.mean(df_standard.Waste_electricity < x) for x in X]"
   ]
  },
  {
   "cell_type": "code",
   "execution_count": 22,
   "id": "eef702a9-5937-428b-8928-be3ada5636ba",
   "metadata": {},
   "outputs": [
    {
     "data": {
      "image/png": "[encoded data removed]",
      "text/plain": [
       "<Figure size 640x480 with 1 Axes>"
      ]
     },
     "metadata": {},
     "output_type": "display_data"
    }
   ],
   "source": [
    "plt.plot(X, Y)\n",
    "plt.show()"
   ]
  },
  {
   "cell_type": "code",
   "execution_count": null,
   "id": "346f07e2-ad02-49cd-9daa-ea69e5307d29",
   "metadata": {},
   "outputs": [],
   "source": [
    "Найдём те же данные о стандартизированном распределении, которые находили про изначальное"
   ]
  },
  {
   "cell_type": "code",
   "execution_count": 8,
   "id": "b8bc4fad-823b-4c39-959f-58c9235a9183",
   "metadata": {},
   "outputs": [
    {
     "data": {
      "text/html": [
       "<div>\n",
       "<style scoped>\n",
       "    .dataframe tbody tr th:only-of-type {\n",
       "        vertical-align: middle;\n",
       "    }\n",
       "\n",
       "    .dataframe tbody tr th {\n",
       "        vertical-align: top;\n",
       "    }\n",
       "\n",
       "    .dataframe thead th {\n",
       "        text-align: right;\n",
       "    }\n",
       "</style>\n",
       "<table border=\"1\" class=\"dataframe\">\n",
       "  <thead>\n",
       "    <tr style=\"text-align: right;\">\n",
       "      <th></th>\n",
       "      <th>Waste_electricity</th>\n",
       "    </tr>\n",
       "  </thead>\n",
       "  <tbody>\n",
       "    <tr>\n",
       "      <th>count</th>\n",
       "      <td>2.530000e+02</td>\n",
       "    </tr>\n",
       "    <tr>\n",
       "      <th>mean</th>\n",
       "      <td>5.616939e-17</td>\n",
       "    </tr>\n",
       "    <tr>\n",
       "      <th>std</th>\n",
       "      <td>1.000000e+00</td>\n",
       "    </tr>\n",
       "    <tr>\n",
       "      <th>min</th>\n",
       "      <td>-1.088919e+00</td>\n",
       "    </tr>\n",
       "    <tr>\n",
       "      <th>1%</th>\n",
       "      <td>-1.088919e+00</td>\n",
       "    </tr>\n",
       "    <tr>\n",
       "      <th>5%</th>\n",
       "      <td>-1.088919e+00</td>\n",
       "    </tr>\n",
       "    <tr>\n",
       "      <th>10%</th>\n",
       "      <td>-1.088919e+00</td>\n",
       "    </tr>\n",
       "    <tr>\n",
       "      <th>20%</th>\n",
       "      <td>-1.088919e+00</td>\n",
       "    </tr>\n",
       "    <tr>\n",
       "      <th>50%</th>\n",
       "      <td>-1.795753e-01</td>\n",
       "    </tr>\n",
       "    <tr>\n",
       "      <th>90%</th>\n",
       "      <td>1.383722e+00</td>\n",
       "    </tr>\n",
       "    <tr>\n",
       "      <th>95%</th>\n",
       "      <td>1.760106e+00</td>\n",
       "    </tr>\n",
       "    <tr>\n",
       "      <th>99%</th>\n",
       "      <td>2.571421e+00</td>\n",
       "    </tr>\n",
       "    <tr>\n",
       "      <th>max</th>\n",
       "      <td>4.068110e+00</td>\n",
       "    </tr>\n",
       "  </tbody>\n",
       "</table>\n",
       "</div>"
      ],
      "text/plain": [
       "       Waste_electricity\n",
       "count       2.530000e+02\n",
       "mean        5.616939e-17\n",
       "std         1.000000e+00\n",
       "min        -1.088919e+00\n",
       "1%         -1.088919e+00\n",
       "5%         -1.088919e+00\n",
       "10%        -1.088919e+00\n",
       "20%        -1.088919e+00\n",
       "50%        -1.795753e-01\n",
       "90%         1.383722e+00\n",
       "95%         1.760106e+00\n",
       "99%         2.571421e+00\n",
       "max         4.068110e+00"
      ]
     },
     "execution_count": 8,
     "metadata": {},
     "output_type": "execute_result"
    }
   ],
   "source": [
    "df_standard.describe(percentiles = [0.01, 0.05, 0.1, 0.2, 0.9, 0.95, 0.99])"
   ]
  },
  {
   "cell_type": "code",
   "execution_count": 10,
   "id": "3adf5614-6767-46a9-83f2-7111afcf4ddc",
   "metadata": {},
   "outputs": [
    {
     "data": {
      "text/plain": [
       "0.9999999999999999"
      ]
     },
     "execution_count": 10,
     "metadata": {},
     "output_type": "execute_result"
    }
   ],
   "source": [
    "df_standard.Waste_electricity.var()"
   ]
  },
  {
   "cell_type": "code",
   "execution_count": 12,
   "id": "2986ce1f-8a82-4a76-b867-656521861414",
   "metadata": {},
   "outputs": [
    {
     "data": {
      "text/plain": [
       "Waste_electricity\n",
       "-1.088919    52\n",
       " 1.984781     3\n",
       " 2.571421     3\n",
       "-0.786022     2\n",
       "-0.013369     2\n",
       "             ..\n",
       "-0.327885     1\n",
       "-0.320273     1\n",
       "-0.320197     1\n",
       "-0.285261     1\n",
       " 4.068110     1\n",
       "Name: count, Length: 190, dtype: int64"
      ]
     },
     "execution_count": 12,
     "metadata": {},
     "output_type": "execute_result"
    }
   ],
   "source": [
    "df_standard.Waste_electricity.value_counts()"
   ]
  },
  {
   "cell_type": "markdown",
   "id": "68f7d7bc-6480-4a3d-80ac-18815952f67a",
   "metadata": {},
   "source": [
    "Как мы видим, после стандартизации область значений распределения расположилась от -1.08 до 4.06. Стандартное отклонение стало равно 1, тогда как до этого было 163.87. Среднее значение стало 0, а было 178.44"
   ]
  },
  {
   "cell_type": "markdown",
   "id": "9c9c34d3-bb58-4eb6-b572-3e215d6d6450",
   "metadata": {},
   "source": [
    "## Задание 2"
   ]
  },
  {
   "cell_type": "markdown",
   "id": "95a3e2d2-7180-4cde-95b1-d9dacd3084dc",
   "metadata": {},
   "source": [
    "Построим KDE и боксплот по нашим данным"
   ]
  },
  {
   "cell_type": "code",
   "execution_count": 23,
   "id": "d7abd0a2-d002-4279-bf03-2fabbf76ceeb",
   "metadata": {},
   "outputs": [
    {
     "data": {
      "text/plain": [
       "<Axes: xlabel='Waste_electricity', ylabel='Density'>"
      ]
     },
     "execution_count": 23,
     "metadata": {},
     "output_type": "execute_result"
    },
    {
     "data": {
      "image/png": "[encoded data removed]",
      "text/plain": [
       "<Figure size 640x480 with 1 Axes>"
      ]
     },
     "metadata": {},
     "output_type": "display_data"
    }
   ],
   "source": [
    "sns.kdeplot(data=df.Waste_electricity)"
   ]
  },
  {
   "cell_type": "code",
   "execution_count": 24,
   "id": "9d0a1a48-1c18-49a1-afde-0cf169a0ea39",
   "metadata": {},
   "outputs": [
    {
     "data": {
      "text/plain": [
       "<Axes: >"
      ]
     },
     "execution_count": 24,
     "metadata": {},
     "output_type": "execute_result"
    },
    {
     "data": {
      "image/png": "[encoded data removed]",
      "text/plain": [
       "<Figure size 640x480 with 1 Axes>"
      ]
     },
     "metadata": {},
     "output_type": "display_data"
    }
   ],
   "source": [
    "df.boxplot(column=['Waste_electricity'])"
   ]
  },
  {
   "cell_type": "code",
   "execution_count": 29,
   "id": "336ef665-e043-4ce4-84bc-2c76b20be5f9",
   "metadata": {},
   "outputs": [
    {
     "data": {
      "image/png": "[encoded data removed]",
      "text/plain": [
       "<Figure size 500x500 with 1 Axes>"
      ]
     },
     "metadata": {},
     "output_type": "display_data"
    }
   ],
   "source": [
    "ax = sns.displot(df.Waste_electricity,\n",
    "                  bins=20,\n",
    "                  color='red')"
   ]
  },
  {
   "cell_type": "markdown",
   "id": "02c07956-f75b-446f-b372-4d2311f36da3",
   "metadata": {},
   "source": [
    "Боксплот считает выбросами единичные значения 845 и 709 после трёх значений 599, что вполне возможно, ведь мы говорим о расходе электроэнергии и то, что она так резко начала возрастать. Но в целом нужно больше информации о данных, чтобы точнее оценить, выбросы это или нет"
   ]
  },
  {
   "cell_type": "code",
   "execution_count": null,
   "id": "ea0e0f57-8914-43be-82da-945e36a68ff2",
   "metadata": {},
   "outputs": [],
   "source": []
  }
 ],
 "metadata": {
  "kernelspec": {
   "display_name": "Python 3 (ipykernel)",
   "language": "python",
   "name": "python3"
  },
  "language_info": {
   "codemirror_mode": {
    "name": "ipython",
    "version": 3
   },
   "file_extension": ".py",
   "mimetype": "text/x-python",
   "name": "python",
   "nbconvert_exporter": "python",
   "pygments_lexer": "ipython3",
   "version": "3.10.9"
  }
 },
 "nbformat": 4,
 "nbformat_minor": 5
}
